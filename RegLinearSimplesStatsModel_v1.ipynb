{
 "cells": [
  {
   "cell_type": "markdown",
   "id": "4d390d26",
   "metadata": {},
   "source": [
    "# <font color='blue'>REGRESSÃO LINEAR SIMPLES</font>"
   ]
  },
  {
   "cell_type": "markdown",
   "id": "25f64ab0",
   "metadata": {},
   "source": [
    "Um psicólogo está investigando a relação entre o tempo que um indivíduo leva para reagir a um estímulo visual (Y) e as características:sexo (X1), idade (X2) e acuidade visual (X3, medida em porcentagem). Essas variáveis (informações ou características) foram observadas em uma amostra de n = 20 indivíduos\n",
    "e o conjunto de dados mais adiante.(Exemplo do livro de Bussab e Morettin, 2017). "
   ]
  },
  {
   "cell_type": "code",
   "execution_count": 8,
   "id": "189a0540",
   "metadata": {},
   "outputs": [],
   "source": [
    "# Carregando Bibliotecas Python\n",
    "import numpy as np\n",
    "import pandas as pd\n",
    "import matplotlib.pyplot as plt\n",
    "import matplotlib as mpl\n",
    "import warnings\n",
    "warnings.filterwarnings(\"ignore\") # Para suprimir os avisos; não poluir\n",
    "%matplotlib inline  "
   ]
  },
  {
   "cell_type": "code",
   "execution_count": 9,
   "id": "28f70616",
   "metadata": {},
   "outputs": [
    {
     "data": {
      "text/html": [
       "<div>\n",
       "<style scoped>\n",
       "    .dataframe tbody tr th:only-of-type {\n",
       "        vertical-align: middle;\n",
       "    }\n",
       "\n",
       "    .dataframe tbody tr th {\n",
       "        vertical-align: top;\n",
       "    }\n",
       "\n",
       "    .dataframe thead th {\n",
       "        text-align: right;\n",
       "    }\n",
       "</style>\n",
       "<table border=\"1\" class=\"dataframe\">\n",
       "  <thead>\n",
       "    <tr style=\"text-align: right;\">\n",
       "      <th></th>\n",
       "      <th>Indiv</th>\n",
       "      <th>Y</th>\n",
       "      <th>X1</th>\n",
       "      <th>X2</th>\n",
       "      <th>X3</th>\n",
       "    </tr>\n",
       "  </thead>\n",
       "  <tbody>\n",
       "    <tr>\n",
       "      <th>0</th>\n",
       "      <td>1</td>\n",
       "      <td>96</td>\n",
       "      <td>H</td>\n",
       "      <td>20</td>\n",
       "      <td>90</td>\n",
       "    </tr>\n",
       "    <tr>\n",
       "      <th>1</th>\n",
       "      <td>2</td>\n",
       "      <td>92</td>\n",
       "      <td>M</td>\n",
       "      <td>20</td>\n",
       "      <td>100</td>\n",
       "    </tr>\n",
       "    <tr>\n",
       "      <th>2</th>\n",
       "      <td>3</td>\n",
       "      <td>106</td>\n",
       "      <td>H</td>\n",
       "      <td>20</td>\n",
       "      <td>80</td>\n",
       "    </tr>\n",
       "    <tr>\n",
       "      <th>3</th>\n",
       "      <td>4</td>\n",
       "      <td>100</td>\n",
       "      <td>M</td>\n",
       "      <td>20</td>\n",
       "      <td>90</td>\n",
       "    </tr>\n",
       "    <tr>\n",
       "      <th>4</th>\n",
       "      <td>5</td>\n",
       "      <td>98</td>\n",
       "      <td>M</td>\n",
       "      <td>25</td>\n",
       "      <td>100</td>\n",
       "    </tr>\n",
       "  </tbody>\n",
       "</table>\n",
       "</div>"
      ],
      "text/plain": [
       "   Indiv    Y X1  X2   X3\n",
       "0      1   96  H  20   90\n",
       "1      2   92  M  20  100\n",
       "2      3  106  H  20   80\n",
       "3      4  100  M  20   90\n",
       "4      5   98  M  25  100"
      ]
     },
     "execution_count": 9,
     "metadata": {},
     "output_type": "execute_result"
    }
   ],
   "source": [
    "# Carregando os dados\n",
    "dados = pd.read_csv('dados_psicologo.csv')\n",
    "dados.head()"
   ]
  },
  {
   "cell_type": "code",
   "execution_count": 10,
   "id": "fdeb8708",
   "metadata": {},
   "outputs": [
    {
     "data": {
      "text/plain": [
       "(20, 5)"
      ]
     },
     "execution_count": 10,
     "metadata": {},
     "output_type": "execute_result"
    }
   ],
   "source": [
    "# Shape dos dados de treino\n",
    "dados.shape"
   ]
  },
  {
   "cell_type": "code",
   "execution_count": 11,
   "id": "fa65ddba",
   "metadata": {},
   "outputs": [
    {
     "data": {
      "image/png": "[encoded data removed]",
      "text/plain": [
       "<Figure size 800x500 with 1 Axes>"
      ]
     },
     "metadata": {},
     "output_type": "display_data"
    }
   ],
   "source": [
    "# scatterplot (gráfico de dispersão)\n",
    "import seaborn as sns\n",
    "ax = sns.scatterplot(x='X2', y='Y', data=dados)"
   ]
  },
  {
   "cell_type": "code",
   "execution_count": 12,
   "id": "6b6f253f",
   "metadata": {},
   "outputs": [
    {
     "data": {
      "text/html": [
       "<div>\n",
       "<style scoped>\n",
       "    .dataframe tbody tr th:only-of-type {\n",
       "        vertical-align: middle;\n",
       "    }\n",
       "\n",
       "    .dataframe tbody tr th {\n",
       "        vertical-align: top;\n",
       "    }\n",
       "\n",
       "    .dataframe thead th {\n",
       "        text-align: right;\n",
       "    }\n",
       "</style>\n",
       "<table border=\"1\" class=\"dataframe\">\n",
       "  <thead>\n",
       "    <tr style=\"text-align: right;\">\n",
       "      <th></th>\n",
       "      <th>Y</th>\n",
       "      <th>X2</th>\n",
       "      <th>X3</th>\n",
       "    </tr>\n",
       "  </thead>\n",
       "  <tbody>\n",
       "    <tr>\n",
       "      <th>0</th>\n",
       "      <td>96</td>\n",
       "      <td>20</td>\n",
       "      <td>90</td>\n",
       "    </tr>\n",
       "    <tr>\n",
       "      <th>1</th>\n",
       "      <td>92</td>\n",
       "      <td>20</td>\n",
       "      <td>100</td>\n",
       "    </tr>\n",
       "  </tbody>\n",
       "</table>\n",
       "</div>"
      ],
      "text/plain": [
       "    Y  X2   X3\n",
       "0  96  20   90\n",
       "1  92  20  100"
      ]
     },
     "execution_count": 12,
     "metadata": {},
     "output_type": "execute_result"
    }
   ],
   "source": [
    "Grafico = {\"Y\":dados[\"Y\"], \"X2\":dados[\"X2\"], \"X3\":dados[\"X3\"]} # Dicionário\n",
    "Grafico = pd.DataFrame(Grafico)\n",
    "Grafico.head(2)"
   ]
  },
  {
   "cell_type": "code",
   "execution_count": 13,
   "id": "f396e4f2",
   "metadata": {},
   "outputs": [
    {
     "data": {
      "text/plain": [
       "array([[<AxesSubplot:title={'center':'Y'}>,\n",
       "        <AxesSubplot:title={'center':'X2'}>],\n",
       "       [<AxesSubplot:title={'center':'X3'}>, <AxesSubplot:>]],\n",
       "      dtype=object)"
      ]
     },
     "execution_count": 13,
     "metadata": {},
     "output_type": "execute_result"
    },
    {
     "data": {
      "image/png": "[encoded data removed]",
      "text/plain": [
       "<Figure size 800x500 with 4 Axes>"
      ]
     },
     "metadata": {},
     "output_type": "display_data"
    }
   ],
   "source": [
    "plt.rcParams['figure.figsize'] = (8.0, 5.0)\n",
    "Grafico.hist()"
   ]
  },
  {
   "cell_type": "code",
   "execution_count": 14,
   "id": "2667e86a",
   "metadata": {},
   "outputs": [
    {
     "data": {
      "text/plain": [
       "107.5"
      ]
     },
     "execution_count": 14,
     "metadata": {},
     "output_type": "execute_result"
    }
   ],
   "source": [
    "# Calculando a média da variável de resposta\n",
    "valor_medio_esperado_na_previsao = dados[\"Y\"].mean()\n",
    "valor_medio_esperado_na_previsao"
   ]
  },
  {
   "cell_type": "code",
   "execution_count": 15,
   "id": "80bb4219",
   "metadata": {},
   "outputs": [
    {
     "name": "stdout",
     "output_type": "stream",
     "text": [
      "Soma dos Quadrados dos Erros (SSE): 1373\n"
     ]
    }
   ],
   "source": [
    "# Calculando (simulando) o SSE - Sum of Squared Errors\n",
    "squared_errors = pd.Series(valor_medio_esperado_na_previsao - dados[\"Y\"])**2 \n",
    "SSE = np.sum(squared_errors)\n",
    "print ('Soma dos Quadrados dos Erros (SSE): %01.f' % SSE)"
   ]
  },
  {
   "cell_type": "code",
   "execution_count": 16,
   "id": "9d9b1b13",
   "metadata": {},
   "outputs": [
    {
     "data": {
      "image/png": "[encoded data removed]",
      "text/plain": [
       "<Figure size 800x500 with 1 Axes>"
      ]
     },
     "metadata": {},
     "output_type": "display_data"
    }
   ],
   "source": [
    "# Histograma dos erros\n",
    "# Temos mais erros \"pequenos\", ou seja, mais valores próximos à média.\n",
    "hist_plot = squared_errors.plot(kind='hist')"
   ]
  },
  {
   "cell_type": "markdown",
   "id": "f1f47994",
   "metadata": {},
   "source": [
    "## Regressão Linear com o StatsModels"
   ]
  },
  {
   "cell_type": "code",
   "execution_count": 17,
   "id": "0871e79b",
   "metadata": {},
   "outputs": [],
   "source": [
    "# Importando as funções\n",
    "import statsmodels.api as sm"
   ]
  },
  {
   "cell_type": "code",
   "execution_count": 18,
   "id": "b820355f",
   "metadata": {},
   "outputs": [],
   "source": [
    "# Gerando X e Y. \n",
    "Y = dados['Y']\n",
    "X2 = dados['X2']"
   ]
  },
  {
   "cell_type": "code",
   "execution_count": 19,
   "id": "17f04408",
   "metadata": {},
   "outputs": [
    {
     "data": {
      "text/html": [
       "<div>\n",
       "<style scoped>\n",
       "    .dataframe tbody tr th:only-of-type {\n",
       "        vertical-align: middle;\n",
       "    }\n",
       "\n",
       "    .dataframe tbody tr th {\n",
       "        vertical-align: top;\n",
       "    }\n",
       "\n",
       "    .dataframe thead th {\n",
       "        text-align: right;\n",
       "    }\n",
       "</style>\n",
       "<table border=\"1\" class=\"dataframe\">\n",
       "  <thead>\n",
       "    <tr style=\"text-align: right;\">\n",
       "      <th></th>\n",
       "      <th>const</th>\n",
       "      <th>X2</th>\n",
       "    </tr>\n",
       "  </thead>\n",
       "  <tbody>\n",
       "    <tr>\n",
       "      <th>0</th>\n",
       "      <td>1.0</td>\n",
       "      <td>20</td>\n",
       "    </tr>\n",
       "    <tr>\n",
       "      <th>1</th>\n",
       "      <td>1.0</td>\n",
       "      <td>20</td>\n",
       "    </tr>\n",
       "    <tr>\n",
       "      <th>2</th>\n",
       "      <td>1.0</td>\n",
       "      <td>20</td>\n",
       "    </tr>\n",
       "    <tr>\n",
       "      <th>3</th>\n",
       "      <td>1.0</td>\n",
       "      <td>20</td>\n",
       "    </tr>\n",
       "    <tr>\n",
       "      <th>4</th>\n",
       "      <td>1.0</td>\n",
       "      <td>25</td>\n",
       "    </tr>\n",
       "  </tbody>\n",
       "</table>\n",
       "</div>"
      ],
      "text/plain": [
       "   const  X2\n",
       "0    1.0  20\n",
       "1    1.0  20\n",
       "2    1.0  20\n",
       "3    1.0  20\n",
       "4    1.0  25"
      ]
     },
     "execution_count": 19,
     "metadata": {},
     "output_type": "execute_result"
    }
   ],
   "source": [
    "# o statmodels requer a adicão de constante coefientes à variável realizar o treinamento\n",
    "X2 = sm.add_constant(X2)\n",
    "X2.head()"
   ]
  },
  {
   "cell_type": "code",
   "execution_count": 20,
   "id": "ce8fd3bd",
   "metadata": {},
   "outputs": [
    {
     "name": "stdout",
     "output_type": "stream",
     "text": [
      "const    80.5\n",
      "X2        0.9\n",
      "dtype: float64\n"
     ]
    }
   ],
   "source": [
    "# Criando o modelo de regressão\n",
    "modlin = sm.OLS(Y, X2) \n",
    "\n",
    "# Treinando o modelo\n",
    "modlin_v1 = modlin.fit()\n",
    "\n",
    "print(modlin_v1.params)"
   ]
  },
  {
   "cell_type": "markdown",
   "id": "16abfbb0",
   "metadata": {},
   "source": [
    "Então o modelo de regressão modlin_v1 é: y_hat = 80.5 + 0.9*x2"
   ]
  },
  {
   "cell_type": "code",
   "execution_count": 21,
   "id": "cebc072e",
   "metadata": {},
   "outputs": [
    {
     "name": "stdout",
     "output_type": "stream",
     "text": [
      "                            OLS Regression Results                            \n",
      "==============================================================================\n",
      "Dep. Variable:                      Y   R-squared:                       0.590\n",
      "Model:                            OLS   Adj. R-squared:                  0.567\n",
      "Method:                 Least Squares   F-statistic:                     25.90\n",
      "Date:                Tue, 14 Nov 2023   Prob (F-statistic):           7.66e-05\n",
      "Time:                        21:22:53   Log-Likelihood:                -61.754\n",
      "No. Observations:                  20   AIC:                             127.5\n",
      "Df Residuals:                      18   BIC:                             129.5\n",
      "Df Model:                           1                                         \n",
      "Covariance Type:            nonrobust                                         \n",
      "==============================================================================\n",
      "                 coef    std err          t      P>|t|      [0.025      0.975]\n",
      "------------------------------------------------------------------------------\n",
      "const         80.5000      5.451     14.768      0.000      69.048      91.952\n",
      "X2             0.9000      0.177      5.089      0.000       0.528       1.272\n",
      "==============================================================================\n",
      "Omnibus:                        1.840   Durbin-Watson:                   2.565\n",
      "Prob(Omnibus):                  0.399   Jarque-Bera (JB):                1.395\n",
      "Skew:                           0.459   Prob(JB):                        0.498\n",
      "Kurtosis:                       2.088   Cond. No.                         134.\n",
      "==============================================================================\n",
      "\n",
      "Notes:\n",
      "[1] Standard Errors assume that the covariance matrix of the errors is correctly specified.\n"
     ]
    }
   ],
   "source": [
    "# Imprimir o relatório\n",
    "print(modlin_v1.summary())"
   ]
  },
  {
   "cell_type": "code",
   "execution_count": 22,
   "id": "9b6eab9d",
   "metadata": {},
   "outputs": [
    {
     "name": "stdout",
     "output_type": "stream",
     "text": [
      "Se x2 = 26, o modelo prevê que Y é 103.90.\n"
     ]
    }
   ],
   "source": [
    "# Fazendo previsão qualquer com o modelo treinado\n",
    "x2 = 26            \n",
    "Xp = np.array([1, x2]) \n",
    "\n",
    "mensagem = \"Se x2 = %01.f, o modelo prevê que Y é %0.2f.\"\n",
    "print(mensagem % (x2, modlin_v1.predict(Xp)))"
   ]
  },
  {
   "cell_type": "code",
   "execution_count": 23,
   "id": "336a44b7",
   "metadata": {},
   "outputs": [
    {
     "data": {
      "text/plain": [
       "0      98.5\n",
       "1      98.5\n",
       "2      98.5\n",
       "3      98.5\n",
       "4     103.0\n",
       "5     103.0\n",
       "6     103.0\n",
       "7     103.0\n",
       "8     107.5\n",
       "9     107.5\n",
       "10    107.5\n",
       "11    107.5\n",
       "12    112.0\n",
       "13    112.0\n",
       "14    112.0\n",
       "15    112.0\n",
       "16    116.5\n",
       "17    116.5\n",
       "18    116.5\n",
       "19    116.5\n",
       "dtype: float64"
      ]
     },
     "execution_count": 23,
     "metadata": {},
     "output_type": "execute_result"
    }
   ],
   "source": [
    "# Gerando os valores previstos\n",
    "valores_previstos = modlin_v1.predict(X2)\n",
    "valores_previstos"
   ]
  },
  {
   "cell_type": "markdown",
   "id": "41de5c90",
   "metadata": {},
   "source": [
    "##### Gerando um ScatterPlot com a Linha de Regressão"
   ]
  },
  {
   "cell_type": "code",
   "execution_count": 24,
   "id": "6ca46b68",
   "metadata": {},
   "outputs": [
    {
     "name": "stdout",
     "output_type": "stream",
     "text": [
      "X2_range: [20, 40]\n",
      "Y_range: [92, 127]\n"
     ]
    }
   ],
   "source": [
    "# Range de valores para x e y\n",
    "X2_range = [dados['X2'].min(), dados['X2'].max()]   # lista\n",
    "print('X2_range:', X2_range)\n",
    "\n",
    "Y_range = [dados['Y'].min(), dados['Y'].max()]   # lista\n",
    "Y_range\n",
    "print('Y_range:', Y_range)"
   ]
  },
  {
   "cell_type": "code",
   "execution_count": 25,
   "id": "5a66f6ec",
   "metadata": {},
   "outputs": [
    {
     "data": {
      "image/png": "[encoded data removed]",
      "text/plain": [
       "<Figure size 800x500 with 1 Axes>"
      ]
     },
     "metadata": {},
     "output_type": "display_data"
    }
   ],
   "source": [
    "# Primeira camada do Scatter Plot\n",
    "scatter_plot = dados.plot(kind = 'scatter', x = 'X2', y = 'Y', xlim = [15, 45], ylim = [90, 130])\n",
    "\n",
    "# Segunda camada do Scatter Plot (linha de regressão)\n",
    "regression_line = scatter_plot.plot(dados['X2'], valores_previstos, '-', color = 'orange', linewidth = 2)"
   ]
  },
  {
   "cell_type": "code",
   "execution_count": 26,
   "id": "f835cc03",
   "metadata": {},
   "outputs": [],
   "source": [
    "# Padronizar os dados\n",
    "def standardize(variable):\n",
    "    return (variable - np.mean(variable)) / np.std(variable)\n",
    "\n",
    "# Gerando os resíduos\n",
    "residuos = dados['Y'] - valores_previstos\n",
    "\n",
    "# Normalizar os resíduos\n",
    "residuos_normalizados = standardize(residuos)"
   ]
  },
  {
   "cell_type": "code",
   "execution_count": 27,
   "id": "dc3bbe65",
   "metadata": {},
   "outputs": [
    {
     "name": "stdout",
     "output_type": "stream",
     "text": [
      "Desvio-padrão_residuos_normalizados: 1.026\n",
      "Média_residuos_normalizados        : 0.000\n"
     ]
    }
   ],
   "source": [
    "# Desvio padrão = ~1 (pois foi padranizado)\n",
    "print('Desvio-padrão_residuos_normalizados: {:0.3f}'.format(residuos_normalizados.std()))\n",
    "\n",
    "# Média = ~0 (pois foi padranizado)\n",
    "print('Média_residuos_normalizados        : {:0.3f}'.format(residuos_normalizados.mean()))"
   ]
  },
  {
   "cell_type": "code",
   "execution_count": 28,
   "id": "c3db38e8",
   "metadata": {},
   "outputs": [
    {
     "data": {
      "image/png": "[encoded data removed]",
      "text/plain": [
       "<Figure size 800x500 with 1 Axes>"
      ]
     },
     "metadata": {},
     "output_type": "display_data"
    }
   ],
   "source": [
    "# ScatterPlot dos resíduos\n",
    "residual_scatter_plot = plt.plot(dados['X2'], residuos_normalizados,'bp')\n",
    "plt.xlabel('X2') \n",
    "plt.ylabel('Resíduos Normalizados') \n",
    "mean_residual = plt.plot([int(X2_range[0]),round(X2_range[1],0)], [0,0], '-', color = 'red', linewidth = 3)\n",
    "upper_bound = plt.plot([int(X2_range[0]),round(X2_range[1],0)], [3,3], '--', color = 'red', linewidth = 2)\n",
    "lower_bound = plt.plot([int(X2_range[0]),round(X2_range[1],0)], [-3,-3], '--', color = 'red', linewidth = 2)\n",
    "plt.grid()"
   ]
  },
  {
   "cell_type": "code",
   "execution_count": 29,
   "id": "5edafaa1",
   "metadata": {},
   "outputs": [
    {
     "name": "stdout",
     "output_type": "stream",
     "text": [
      "***** DESVIO-PADRÃO *****\n",
      "Resultado da Função: 7.07107\n",
      "Resultado do Numpy : 7.07107\n",
      "\n",
      "***** CORRELAÇÃO *****\n",
      "Nossa estimativa de Correlação     : 0.76808\n",
      "Correlação função pearsonr do SciPy: 0.76808\n"
     ]
    }
   ],
   "source": [
    "# Vamos criar \"nossa\" função para comparar com \"Numpy\" e \"função pearsonr do SciPy\"\n",
    "\n",
    "### DESVIO-PADRÃO\n",
    "\n",
    "def calc_desvio_padrao(variable, bias = 0):\n",
    "    observations = float(len(variable))\n",
    "    return np.sqrt(np.sum((variable - np.mean(variable))**2) / (observations - min(bias, 1)))\n",
    "\n",
    "print('***** DESVIO-PADRÃO *****')\n",
    "print ('Resultado da Função: %0.5f' % (calc_desvio_padrao(dados['X2'])))\n",
    "print ('Resultado do Numpy : %0.5f' % (np.std(dados['X2'])))\n",
    "\n",
    "### CORRELAÇÃO\n",
    "\n",
    "# Funções para calcular a variância da variável X2 e a correlação com a variável target\n",
    "def covariance(variable_1, variable_2, bias = 0):\n",
    "    observations = float(len(variable_1))\n",
    "    return np.sum((variable_1 - np.mean(variable_1)) * (variable_2 - np.mean(variable_2))) / (observations - min(bias,1))\n",
    "\n",
    "def standardize(variable):\n",
    "    return (variable - np.mean(variable)) / np.std(variable)\n",
    "\n",
    "def correlation(var1, var2, bias = 0):\n",
    "    return covariance(standardize(var1), standardize(var2), bias)\n",
    "\n",
    "# Compara o resultado das nossas funções com a função pearsonr do SciPy\n",
    "from scipy.stats.stats import pearsonr\n",
    "print('\\n***** CORRELAÇÃO *****')\n",
    "print ('Nossa estimativa de Correlação     : %0.5f' % (correlation(dados['X2'], dados['Y'])))\n",
    "print ('Correlação função pearsonr do SciPy: %0.5f' % pearsonr(dados['X2'], dados['Y'])[0])"
   ]
  }
 ],
 "metadata": {
  "kernelspec": {
   "display_name": "Python 3 (ipykernel)",
   "language": "python",
   "name": "python3"
  },
  "language_info": {
   "codemirror_mode": {
    "name": "ipython",
    "version": 3
   },
   "file_extension": ".py",
   "mimetype": "text/x-python",
   "name": "python",
   "nbconvert_exporter": "python",
   "pygments_lexer": "ipython3",
   "version": "3.9.13"
  }
 },
 "nbformat": 4,
 "nbformat_minor": 5
}
